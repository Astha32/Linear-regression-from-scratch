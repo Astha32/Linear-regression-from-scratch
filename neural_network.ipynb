{
 "cells": [
  {
   "cell_type": "code",
   "execution_count": 1,
   "metadata": {},
   "outputs": [
    {
     "data": {
      "text/plain": [
       "'C:\\\\Users\\\\DELL'"
      ]
     },
     "execution_count": 1,
     "metadata": {},
     "output_type": "execute_result"
    }
   ],
   "source": [
    "pwd\n"
   ]
  },
  {
   "cell_type": "code",
   "execution_count": 2,
   "metadata": {},
   "outputs": [],
   "source": [
    "import numpy as np\n",
    "import pandas as pd\n",
    "import matplotlib\n",
    "matplotlib.rcParams['figure.figsize'] = (10.0, 10.0)\n",
    "import matplotlib.pyplot as plt"
   ]
  },
  {
   "cell_type": "code",
   "execution_count": 3,
   "metadata": {},
   "outputs": [],
   "source": [
    "data=pd.read_csv(\"DoubleMoon1.txt\")"
   ]
  },
  {
   "cell_type": "code",
   "execution_count": 4,
   "metadata": {},
   "outputs": [
    {
     "data": {
      "text/plain": [
       "array([8750, 9942, 9806, ..., 7127, 6270, 6974])"
      ]
     },
     "execution_count": 4,
     "metadata": {},
     "output_type": "execute_result"
    }
   ],
   "source": [
    "np.random.permutation(len(data))"
   ]
  },
  {
   "cell_type": "code",
   "execution_count": 5,
   "metadata": {},
   "outputs": [],
   "source": [
    "from tqdm import tqdm\n",
    "#progress\n",
    "from IPython import display\n"
   ]
  },
  {
   "cell_type": "code",
   "execution_count": 6,
   "metadata": {},
   "outputs": [],
   "source": [
    "X=data.iloc[:,0:2].values\n",
    "y=data.iloc[:,2:3].values\n",
    "X=X.T\n",
    "y=y.T"
   ]
  },
  {
   "cell_type": "code",
   "execution_count": 7,
   "metadata": {},
   "outputs": [],
   "source": [
    "from sklearn.metrics import accuracy_score\n",
    "from sklearn.utils import shuffle\n",
    "from sklearn.model_selection import train_test_split"
   ]
  },
  {
   "cell_type": "code",
   "execution_count": 8,
   "metadata": {},
   "outputs": [],
   "source": [
    "def activation(z,derivative=False):\n",
    "    if derivative:\n",
    "        return activation(z)*(1-activation(z))\n",
    "    else:\n",
    "        return 1/(1+ np.exp(-z))\n",
    "\n",
    "def cost_function(y_true,y_pred):\n",
    "    n=y_pred.shape[1]\n",
    "    cost=(1./(2*n))*np.sum((y_true-y_pred)**2)\n",
    "    return cost\n",
    "\n",
    "def cost_function_prime(y_true,y_pred):\n",
    "    cost_prime= y_pred-y_true\n",
    "    return cost_prime"
   ]
  },
  {
   "cell_type": "code",
   "execution_count": 9,
   "metadata": {},
   "outputs": [],
   "source": [
    "class NeuralNetwork(object):\n",
    "    def __init__(self,size,seed=42):\n",
    "        self.seed=seed\n",
    "        np.random.seed(self.seed)\n",
    "        self.size=size\n",
    "        self.weights = [np.random.randn(self.size[i], self.size[i-1]) * np.sqrt(1 / self.size[i-1]) for i in range(1, len(self.size))]\n",
    "        self.biases = [np.random.rand(n, 1) for n in self.size[1:]]\n",
    "#self - this\n",
    "    \n",
    "    #forward propogation\n",
    "    def forward(self,input):\n",
    "        a = input\n",
    "        pre_activations = []\n",
    "        activations = [a]\n",
    "        for w, b in zip(self.weights, self.biases):\n",
    "            z = np.dot(w, a) + b\n",
    "            a  = activation(z)\n",
    "            pre_activations.append(z)\n",
    "            activations.append(a)\n",
    "        return a, pre_activations, activations\n",
    "    \n",
    "    #errors\n",
    "    def compute_deltas(self,pre_activations,y_true,y_pred):\n",
    "        #last layer\n",
    "        delta_L = cost_function_prime(y_true, y_pred) * activation(pre_activations[-1], derivative=True)\n",
    "        deltas = [0] * (len(self.size) - 1)\n",
    "        deltas[-1] = delta_L\n",
    "        #rest all layers\n",
    "        for l in range(len(deltas) - 2, -1, -1):\n",
    "            delta = np.dot(self.weights[l + 1].transpose(), deltas[l + 1]) * activation(pre_activations[l], derivative=True) \n",
    "            deltas[l] = delta\n",
    "        return deltas\n",
    "    #backward propogation                 \n",
    "    def backpropagate(self, deltas, pre_activations, activations):\n",
    "        dW = []\n",
    "        db = []\n",
    "        deltas = [0] + deltas\n",
    "        for l in range(1, len(self.size)):\n",
    "            dW_l = np.dot(deltas[l], activations[l-1].transpose()) \n",
    "            db_l = deltas[l]\n",
    "            dW.append(dW_l)\n",
    "            db.append(np.expand_dims(db_l.mean(axis=1), 1))\n",
    "        return dW, db\n",
    "    \n",
    "    def plot_decision_regions(self, X, y, iteration, train_loss, val_loss, train_acc, val_acc, res=0.01):\n",
    "        X, y = X.T, y.T \n",
    "        x_min, x_max = X[:, 0].min() - 0.5, X[:, 0].max() + 0.5\n",
    "        y_min, y_max = X[:, 1].min() - 0.5, X[:, 1].max() + 0.5\n",
    "        xx, yy = np.meshgrid(np.arange(x_min, x_max, res),\n",
    "                            np.arange(y_min, y_max, res))\n",
    "        \n",
    "        Z = self.predict(np.c_[xx.ravel(), yy.ravel()].T)\n",
    "        Z = Z.reshape(xx.shape)\n",
    "        plt.contourf(xx, yy, Z, alpha=0.5)\n",
    "        plt.xlim(xx.min(), xx.max())\n",
    "        plt.ylim(yy.min(), yy.max())\n",
    "        plt.scatter(X[:, 0], X[:, 1], c=y.reshape(-1),  alpha=0.2)\n",
    "        message = 'iteration: {} | train loss: {} | val loss: {} | train acc: {} | val acc: {}'.format(iteration,\n",
    "                                                                                                     train_loss, \n",
    "                                                                                                     val_loss, \n",
    "                                                                                                     train_acc, \n",
    "                                                                                                     val_acc)\n",
    "        plt.title(message)\n",
    "                      \n",
    "    def train(self, X, y, batch_size, epochs, learning_rate, validation_split=0.2, print_every=10, tqdm_=True, plot_every=None):\n",
    "        history_train_losses = []\n",
    "        history_train_accuracies = []\n",
    "        history_test_losses = []\n",
    "        history_test_accuracies = []\n",
    "\n",
    "        x_train, x_test, y_train, y_test = train_test_split(X.T, y.T, test_size=validation_split, )\n",
    "        x_train, x_test, y_train, y_test = x_train.T, x_test.T, y_train.T, y_test.T \n",
    "\n",
    "        if tqdm_:\n",
    "            epoch_iterator = tqdm(range(epochs))\n",
    "        else:\n",
    "            epoch_iterator = range(epochs)\n",
    "\n",
    "        for e in epoch_iterator:\n",
    "            if x_train.shape[1] % batch_size == 0:\n",
    "                n_batches = int(x_train.shape[1] / batch_size)\n",
    "            else:\n",
    "                n_batches = int(x_train.shape[1] / batch_size ) - 1\n",
    "\n",
    "            x_train, y_train = shuffle(x_train.T, y_train.T)\n",
    "            x_train, y_train = x_train.T, y_train.T\n",
    "\n",
    "            batches_x = [x_train[:, batch_size*i:batch_size*(i+1)] for i in range(0, n_batches)]\n",
    "            batches_y = [y_train[:, batch_size*i:batch_size*(i+1)] for i in range(0, n_batches)]\n",
    "\n",
    "            train_losses = []\n",
    "            train_accuracies = []\n",
    "            \n",
    "            test_losses = []\n",
    "            test_accuracies = []\n",
    "\n",
    "            dw_per_epoch = [np.zeros(w.shape) for w in self.weights]\n",
    "            db_per_epoch = [np.zeros(b.shape) for b in self.biases] \n",
    "            \n",
    "            for batch_x, batch_y in zip(batches_x, batches_y):\n",
    "                batch_y_pred, pre_activations, activations = self.forward(batch_x)\n",
    "                deltas = self.compute_deltas(pre_activations, batch_y, batch_y_pred)\n",
    "                dW, db = self.backpropagate(deltas, pre_activations, activations)\n",
    "                for i, (dw_i, db_i) in enumerate(zip(dW, db)):\n",
    "                    dw_per_epoch[i] += dw_i / batch_size\n",
    "                    db_per_epoch[i] += db_i / batch_size\n",
    "\n",
    "                batch_y_train_pred = self.predict(batch_x)\n",
    "\n",
    "                train_loss = cost_function(batch_y, batch_y_train_pred)\n",
    "                train_losses.append(train_loss)\n",
    "                train_accuracy = accuracy_score(batch_y.T, batch_y_train_pred.T)\n",
    "                train_accuracies.append(train_accuracy)\n",
    "\n",
    "                batch_y_test_pred = self.predict(x_test)\n",
    "\n",
    "                test_loss = cost_function(y_test, batch_y_test_pred)\n",
    "                test_losses.append(test_loss)\n",
    "                test_accuracy = accuracy_score(y_test.T, batch_y_test_pred.T)\n",
    "                test_accuracies.append(test_accuracy)\n",
    "\n",
    "\n",
    "            \n",
    "            for i, (dw_epoch, db_epoch) in enumerate(zip(dw_per_epoch, db_per_epoch)):\n",
    "                self.weights[i] = self.weights[i] - learning_rate * dw_epoch\n",
    "                self.biases[i] = self.biases[i] - learning_rate * db_epoch\n",
    "\n",
    "            history_train_losses.append(np.mean(train_losses))\n",
    "            history_train_accuracies.append(np.mean(train_accuracies))\n",
    "            \n",
    "            history_test_losses.append(np.mean(test_losses))\n",
    "            history_test_accuracies.append(np.mean(test_accuracies))\n",
    "\n",
    "\n",
    "            if not plot_every:\n",
    "                if e % print_every == 0:    \n",
    "                    print('Epoch {} / {} | train loss: {} | train accuracy: {} | val loss : {} | val accuracy : {} '.format(\n",
    "                        e, epochs, np.round(np.mean(train_losses), 3), np.round(np.mean(train_accuracies), 3), \n",
    "                        np.round(np.mean(test_losses), 3),  np.round(np.mean(test_accuracies), 3)))\n",
    "            else:\n",
    "                if e % plot_every == 0:\n",
    "                    self.plot_decision_regions(x_train, y_train, e, \n",
    "                                                np.round(np.mean(train_losses), 4), \n",
    "                                                np.round(np.mean(test_losses), 4),\n",
    "                                                np.round(np.mean(train_accuracies), 4), \n",
    "                                                np.round(np.mean(test_accuracies), 4), \n",
    "                                                )\n",
    "                    plt.show()                    \n",
    "                    display.display(plt.gcf())\n",
    "                    display.clear_output(wait=True)\n",
    "\n",
    "        self.plot_decision_regions(X, y, e, \n",
    "                                    np.round(np.mean(train_losses), 4), \n",
    "                                    np.round(np.mean(test_losses), 4),\n",
    "                                    np.round(np.mean(train_accuracies), 4), \n",
    "                                    np.round(np.mean(test_accuracies), 4), \n",
    "                                    )\n",
    "\n",
    "        history = {'epochs': epochs,\n",
    "                   'train_loss': history_train_losses, \n",
    "                   'train_acc': history_train_accuracies,\n",
    "                   'test_loss': history_test_losses,\n",
    "                   'test_acc': history_test_accuracies\n",
    "                   }\n",
    "        return history\n",
    "    \n",
    "    def predict(self, a):\n",
    "        for w, b in zip(self.weights, self.biases):\n",
    "            z = np.dot(w, a) + b\n",
    "            a = activation(z)\n",
    "        predictions = (a > 0.5).astype(int)\n",
    "        return predictions"
   ]
  },
  {
   "cell_type": "code",
   "execution_count": 10,
   "metadata": {
    "scrolled": true
   },
   "outputs": [
    {
     "data": {
      "image/png": "[encoded data removed]",
      "text/plain": [
       "<Figure size 432x288 with 1 Axes>"
      ]
     },
     "metadata": {},
     "output_type": "display_data"
    }
   ],
   "source": [
    "neural_net=NeuralNetwork([2,3,3,1],seed=2)\n",
    "history=neural_net.train(X=X, y=y, batch_size=32, epochs=500, learning_rate=0.4, print_every=200, validation_split=0.2,\n",
    "                          tqdm_=False, plot_every=15)"
   ]
  }
 ],
 "metadata": {
  "kernelspec": {
   "display_name": "Python 3",
   "language": "python",
   "name": "python3"
  },
  "language_info": {
   "codemirror_mode": {
    "name": "ipython",
    "version": 3
   },
   "file_extension": ".py",
   "mimetype": "text/x-python",
   "name": "python",
   "nbconvert_exporter": "python",
   "pygments_lexer": "ipython3",
   "version": "3.6.5"
  }
 },
 "nbformat": 4,
 "nbformat_minor": 2
}
